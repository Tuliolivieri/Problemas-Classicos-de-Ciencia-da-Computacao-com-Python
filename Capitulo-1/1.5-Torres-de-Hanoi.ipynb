{
 "cells": [
  {
   "cell_type": "markdown",
   "metadata": {},
   "source": [
    "## 1.5. Torres de Hanói"
   ]
  },
  {
   "cell_type": "markdown",
   "metadata": {},
   "source": [
    "O problema das Torres de Hanói consiste em 3 pinos verticais (chamados normalmente de `A, B e C`) e 3 discos circulares (chamados de `1, 2 e 3`, sendo 1 o maior e 3 o menor). Inicialmente os 3 discos estão no pino A em ordem de tamanho (o 1 na base, o 2 acima dele e no topo o disco 3), e devemos movê-los para o pino C, seguindo algumas regras:\n",
    "\n",
    "1 - Podemos mover um disco por vez;\n",
    "\n",
    "2 - Só podemos mover os discoes que estão no topo de cada torre;\n",
    "\n",
    "3 - Um disco não pode estar acima de outro que seja menor que ele.\n",
    "\n",
    "\n",
    "No livro é criada uma classe `Stack` que utiliza uma `list` e os métodos `append` e `pop` para adicionar e remover os elementos, porém isso pode trazer problemas de complexidade conforme a lista cresce e o Python precisa realocar os itens na memória ou então executar várias operações no fim da mesma. Pensando nisso, subistitui a lista pelo [deque](https://docs.python.org/3/library/collections.html#collections.deque), que implementa uma `linked-list`, melhorando o uso de memória e tornando as operações de `push` e `pop` no inicio ou fim da estrutura igualmente eficientes, uma vez que há um ponteiro apontando para o início e outro para o final dos dados. O `deque` é frequentemente utilizado para implementar `pilhas` e `filas` no Python."
   ]
  },
  {
   "cell_type": "code",
   "execution_count": 2,
   "metadata": {},
   "outputs": [],
   "source": [
    "from typing import TypeVar, Generic, List\n",
    "from collections import deque\n",
    "\n",
    "T = TypeVar('T')\n",
    "\n",
    "class Stack(Generic[T]):\n",
    "    def __init__(self) -> None:\n",
    "        self.__data = deque()\n",
    "\n",
    "    def push(self, item: T) -> None:\n",
    "        self.__data.append(item)\n",
    "\n",
    "    def pop(self) -> T:\n",
    "        return self.__data.pop()\n",
    "\n",
    "    def __repr__(self) -> str:\n",
    "        return repr(self.__data)"
   ]
  },
  {
   "cell_type": "markdown",
   "metadata": {},
   "source": [
    "A solução comunmente implementada (e usada pelo autor) consiste em um algoritmo recursivo, que utiliza pilhas para simularem as torres e consiste nos seguintes passos para resolver o problema:\n",
    "\n",
    "1 - Move os n-1 discos da torre A para a B, tendo a torre C como auxiliar no processo;\n",
    "\n",
    "2 - Move o disco que sobrou em A para C;\n",
    "\n",
    "3 - Move os n-1 discos da torre B para C, usando a torre A como auxiliar (semelhante ao passo 1, não?)."
   ]
  },
  {
   "cell_type": "code",
   "execution_count": 11,
   "metadata": {},
   "outputs": [],
   "source": [
    "def resolve_torres_de_hanoi(inicio: Stack[int], fim: Stack[int], auxiliar: Stack[int], n: int) -> None:\n",
    "    if n == 1:\n",
    "        fim.push(inicio.pop())\n",
    "    else:\n",
    "        resolve_torres_de_hanoi(inicio, auxiliar, fim, n - 1)\n",
    "        resolve_torres_de_hanoi(inicio, fim, auxiliar, 1)\n",
    "        resolve_torres_de_hanoi(auxiliar, fim, inicio, n - 1)"
   ]
  },
  {
   "cell_type": "code",
   "execution_count": 15,
   "metadata": {},
   "outputs": [
    {
     "name": "stdout",
     "output_type": "stream",
     "text": [
      "deque([1, 2, 3])\n",
      "deque([])\n",
      "deque([])\n",
      "\n",
      "----------------\n",
      "\n",
      "deque([])\n",
      "deque([])\n",
      "deque([1, 2, 3])\n"
     ]
    }
   ],
   "source": [
    "discos: int = 3\n",
    "\n",
    "torre_a: Stack[int] = Stack()\n",
    "torre_b: Stack[int] = Stack()\n",
    "torre_c: Stack[int] = Stack()\n",
    "\n",
    "for i in range(1, discos + 1):\n",
    "    torre_a.push(i)\n",
    "\n",
    "print(torre_a)\n",
    "print(torre_b)\n",
    "print(torre_c)\n",
    "\n",
    "print('\\n----------------\\n')\n",
    "resolve_torres_de_hanoi(torre_a, torre_c, torre_b, discos)\n",
    "\n",
    "print(torre_a)\n",
    "print(torre_b)\n",
    "print(torre_c)"
   ]
  }
 ],
 "metadata": {
  "kernelspec": {
   "display_name": "Python 3.10.4 64-bit",
   "language": "python",
   "name": "python3"
  },
  "language_info": {
   "codemirror_mode": {
    "name": "ipython",
    "version": 3
   },
   "file_extension": ".py",
   "mimetype": "text/x-python",
   "name": "python",
   "nbconvert_exporter": "python",
   "pygments_lexer": "ipython3",
   "version": "3.10.4"
  },
  "orig_nbformat": 4,
  "vscode": {
   "interpreter": {
    "hash": "369f2c481f4da34e4445cda3fffd2e751bd1c4d706f27375911949ba6bb62e1c"
   }
  }
 },
 "nbformat": 4,
 "nbformat_minor": 2
}
