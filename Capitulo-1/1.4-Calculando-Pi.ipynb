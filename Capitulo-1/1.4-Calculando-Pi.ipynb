{
 "cells": [
  {
   "cell_type": "markdown",
   "metadata": {},
   "source": [
    "## 1.4. Calculando Pi"
   ]
  },
  {
   "cell_type": "markdown",
   "metadata": {},
   "source": [
    "O número `Pi` possui grande importância dentro da matemática, sendo utilizado na computação de várias fórmulas. O seu valor (3,14159...) pode ser obtido de várias formas, e o autor nos mostra uma delas, a fórmula de `Leibniz`:\n",
    "\n",
    "> Pi = 4/1 - 4/3 + 4/5 - 4/7 + 4/9 - 4/11 ...\n",
    "\n",
    "O númmerador sempre é 4, e o denominador sempre aumenta de 2 em 2. Além disso, a operação entre as frações se alternam entre adição e subtração. Dessa forma, podemos modelar a formula diretamente no código:\n"
   ]
  },
  {
   "cell_type": "code",
   "execution_count": 6,
   "metadata": {},
   "outputs": [
    {
     "name": "stdout",
     "output_type": "stream",
     "text": [
      "3.0418396189294032\n",
      "3.1315929035585537\n",
      "3.140592653839794\n",
      "3.1414926535900345\n",
      "3.1415826535897198\n",
      "3.1415916535897743\n",
      "3.1415925535897915\n",
      "3.141592643589326\n"
     ]
    }
   ],
   "source": [
    "def calculate_pi(n_terms: int) -> float:\n",
    "    numerator: float = 4.0\n",
    "    denominator: float = 1.0\n",
    "    operation: float = 1.0\n",
    "    pi: float = 0.0\n",
    "\n",
    "    for _ in range(n_terms):\n",
    "        pi += operation * (numerator / denominator)\n",
    "        denominator += 2\n",
    "        operation *= -1\n",
    "\n",
    "    return pi\n",
    "\n",
    "print(calculate_pi(10))\n",
    "print(calculate_pi(100))\n",
    "print(calculate_pi(1000))\n",
    "print(calculate_pi(10000))\n",
    "print(calculate_pi(100000))\n",
    "print(calculate_pi(1000000))\n",
    "print(calculate_pi(10000000))\n",
    "print(calculate_pi(100000000))"
   ]
  },
  {
   "cell_type": "markdown",
   "metadata": {},
   "source": [
    "Como podemos ver no bloco de execução acima, quanto maior o número de termos (frações usadas na sequência), mais precisão temos no cálculo de Pi"
   ]
  }
 ],
 "metadata": {
  "interpreter": {
   "hash": "369f2c481f4da34e4445cda3fffd2e751bd1c4d706f27375911949ba6bb62e1c"
  },
  "kernelspec": {
   "display_name": "Python 3.10.4 64-bit",
   "language": "python",
   "name": "python3"
  },
  "language_info": {
   "codemirror_mode": {
    "name": "ipython",
    "version": 3
   },
   "file_extension": ".py",
   "mimetype": "text/x-python",
   "name": "python",
   "nbconvert_exporter": "python",
   "pygments_lexer": "ipython3",
   "version": "3.10.4"
  },
  "orig_nbformat": 4
 },
 "nbformat": 4,
 "nbformat_minor": 2
}
