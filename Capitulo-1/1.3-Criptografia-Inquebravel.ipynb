{
 "cells": [
  {
   "cell_type": "markdown",
   "metadata": {},
   "source": [
    "## 1.3. Criptografia Inquebrável"
   ]
  },
  {
   "cell_type": "markdown",
   "metadata": {},
   "source": [
    "Para criar essa criptografia, o autor usa a ideia de `ont-time pad`, ou cifra de uso único, que é uma forma de criptografar dados combinando eles com dados aleatórios e sem significado, chamados pelo autor de `dummy`. Com essa ideia, os dados originais só poderão ser descriptografados com o produto da criptografia e o `dummy`, remetendo a ideia de criptografias que usam um par de chaves onde obter apenas uma delas é inútil para acessar os dados originais.\n",
    "\n",
    "O autor coloca como boa prática para a criação dos `dummys` três pontos para que a criptografia se torne de fato robusta:\n",
    "\n",
    "> 1 - Devem ter o mesmo tamanho dos dados que serão criptografados;\n",
    ">\n",
    "> 2 - Devem ser de fato aleatórios (ou [pseudoaletórios](https://pt.wikipedia.org/wiki/Pseudoaleatoriedade#Criptografia) dado o contexto de nossos computadores);\n",
    ">\n",
    "> 3 - Totalmente secretos.\n",
    "\n",
    "Para gerar o produto do `dado` com o `dummy`, usaremos o operador lógico `XOR`(^) do Python:\n",
    "\n",
    "> 0 ^ 0 = 0  \n",
    "> 0 ^ 1 = 1  \n",
    "> 1 ^ 0 = 1  \n",
    "> 1 ^ 1 = 0\n",
    "\n",
    "Esse operador é utilizado pois possui uma característica interessante para essa aplicação:\n",
    "\n",
    "> A ^ B = C  \n",
    "> B ^ C = A  \n",
    "> C ^ A = B\n",
    "\n",
    "Que nos remete ao seguinte:\n",
    "\n",
    "> dado ^ dummy = produto  \n",
    "> produto ^ dummy = dado  \n",
    "\n",
    "Dessa forma, ao gerar um par de chaves (`produto` e `dummy`) com a função `encrypt`, poderemos usá-las para obter o valor original do `dado`."
   ]
  },
  {
   "cell_type": "code",
   "execution_count": 6,
   "metadata": {},
   "outputs": [],
   "source": [
    "from secrets import token_bytes\n",
    "from typing import Tuple\n",
    "from math import ceil\n",
    "\n",
    "\n",
    "class UnbreakableCrypt:\n",
    "    @classmethod\n",
    "    def __generate_random_key(cls, length: int) -> int:\n",
    "        t_bytes: bytes = token_bytes(length)\n",
    "        return int.from_bytes(t_bytes, \"big\")\n",
    "\n",
    "    @classmethod\n",
    "    def encrypt(cls, original: str) -> Tuple[int, int]:\n",
    "        original_bytes: bytes = original.encode()\n",
    "        dummy: int = cls.__generate_random_key(len(original_bytes))\n",
    "        original_key: int = int.from_bytes(original_bytes, \"big\")\n",
    "        encrypted: int = original_key ^ dummy\n",
    "        return dummy, encrypted\n",
    "\n",
    "    @classmethod\n",
    "    def decrypt(cls, key_1: int, key_2: int) -> str:\n",
    "        decrypted: int = key_1 ^ key_2\n",
    "        temp: bytes = decrypted.to_bytes(ceil((decrypted.bit_length()) / 8), \"big\")\n",
    "        return temp.decode()"
   ]
  },
  {
   "cell_type": "markdown",
   "metadata": {},
   "source": [
    "O parâmetro `\"big\"` passado para as funções `from_bytes` e `to_bytes` indicam qual o bit mais significativo (`endianness`) dos bytes gerados ou convertidos.\n",
    "\n",
    "Além disso, a função `ceil` tem como função arredondar \"para cima\" o valor, de forma a evitar o erro por um (`off-by-one`). Aqui o autor usa uma outra alternativa para obter o mesmo resultado: uma soma com o número 7 e então a divisão inteira (`//`).\n",
    "\n",
    "Abaixo podemos ver se nossa criptografia funciona:"
   ]
  },
  {
   "cell_type": "code",
   "execution_count": 13,
   "metadata": {},
   "outputs": [
    {
     "name": "stdout",
     "output_type": "stream",
     "text": [
      "A criptografia funciona!\n"
     ]
    }
   ],
   "source": [
    "dado = \"O rato roeu a roupa do rei de Roma\"\n",
    "key_1, key_2 = UnbreakableCrypt.encrypt(dado)\n",
    "assert dado == UnbreakableCrypt.decrypt(key_1, key_2)\n",
    "\n",
    "dado = \"1, 2, 3 indiozinhos, 4, 5, 6 indiozinhos\"\n",
    "key_1, key_2 = UnbreakableCrypt.encrypt(dado)\n",
    "assert dado == UnbreakableCrypt.decrypt(key_1, key_2)\n",
    "\n",
    "print(\"A criptografia funciona!\")"
   ]
  }
 ],
 "metadata": {
  "interpreter": {
   "hash": "369f2c481f4da34e4445cda3fffd2e751bd1c4d706f27375911949ba6bb62e1c"
  },
  "kernelspec": {
   "display_name": "Python 3.10.4 64-bit",
   "language": "python",
   "name": "python3"
  },
  "language_info": {
   "codemirror_mode": {
    "name": "ipython",
    "version": 3
   },
   "file_extension": ".py",
   "mimetype": "text/x-python",
   "name": "python",
   "nbconvert_exporter": "python",
   "pygments_lexer": "ipython3",
   "version": "3.10.4"
  },
  "orig_nbformat": 4
 },
 "nbformat": 4,
 "nbformat_minor": 2
}
