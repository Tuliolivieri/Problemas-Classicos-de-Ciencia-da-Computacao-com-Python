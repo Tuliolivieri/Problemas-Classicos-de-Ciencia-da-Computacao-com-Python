{
 "cells": [
  {
   "cell_type": "markdown",
   "metadata": {},
   "source": [
    "## 1.1. Sequência de Fibonacci\n",
    "\n",
    "A Sequência de Fibonacci é uma sequência numérica de tamanho **N** onde qualquer número é dado pela soma dos dois elementos anteriores, com exeção do primeiro e do segundo número.\n"
   ]
  },
  {
   "cell_type": "markdown",
   "metadata": {},
   "source": [
    "### 1.1.1. Primeira tentativa com recursão"
   ]
  },
  {
   "cell_type": "code",
   "execution_count": null,
   "metadata": {},
   "outputs": [
    {
     "ename": "",
     "evalue": "",
     "output_type": "error",
     "traceback": [
      "\u001b[1;31mCanceled future for execute_request message before replies were done"
     ]
    },
    {
     "ename": "",
     "evalue": "",
     "output_type": "error",
     "traceback": [
      "\u001b[1;31mThe Kernel crashed while executing code in the the current cell or a previous cell. Please review the code in the cell(s) to identify a possible cause of the failure. Click <a href='https://aka.ms/vscodeJupyterKernelCrash'>here</a> for more info. View Jupyter <a href='command:jupyter.viewOutput'>log</a> for further details."
     ]
    }
   ],
   "source": [
    "def fibonacci_1(n: int) -> int:\n",
    "    return fibonacci_1(n - 1) + fibonacci_1(n - 2)\n",
    "\n",
    "fibonacci_1(5)"
   ]
  },
  {
   "cell_type": "markdown",
   "metadata": {},
   "source": [
    "O programa quebra pois não há uma condição de parada, então acabamos estourando a pilha de recursão do Python.\n",
    "\n",
    "```python\n",
    "Traceback (most recent call last):\n",
    "  File \"<stdin>\", line 1, in <module>\n",
    "  File \"<stdin>\", line 2, in fib\n",
    "  File \"<stdin>\", line 2, in fib\n",
    "  File \"<stdin>\", line 2, in fib\n",
    "  [Previous line repeated 996 more times]\n",
    "RecursionError: maximum recursion depth exceeded\n",
    "```\n",
    "\n",
    "Para solucionar isso, devemos trabalhar com uma condição de parada para a recursão."
   ]
  },
  {
   "cell_type": "markdown",
   "metadata": {},
   "source": [
    "### 1.1.2. Utilizando casos de base\n",
    "\n",
    "O caso base de uma função recursiva é uma condição onde a função não chamará a si mesma novamente, quebrando assim a recursão e impedindo que aconteça um _loop infinito_."
   ]
  },
  {
   "cell_type": "code",
   "execution_count": 5,
   "metadata": {},
   "outputs": [
    {
     "name": "stdout",
     "output_type": "stream",
     "text": [
      "O 30 elemento da Sequência de Fibonacci é 832040\n",
      "Para calculá-lo foram necessárias 2692537 chamadas a função fibonacci_2\n"
     ]
    }
   ],
   "source": [
    "fib_2_execution_count: int = 0\n",
    "\n",
    "def fibonacci_2(n: int) -> int:\n",
    "    global fib_2_execution_count\n",
    "    fib_2_execution_count += 1\n",
    "    # caso base que para a recursão\n",
    "    if n < 2:\n",
    "        return n\n",
    "    # chamada recursiva\n",
    "    return fibonacci_2(n - 2) + fibonacci_2(n - 1)\n",
    "\n",
    "n = 30\n",
    "print(f'O {n} elemento da Sequência de Fibonacci é {fibonacci_2(n)}')\n",
    "print(f'Para calculá-lo foram necessárias {fib_2_execution_count} chamadas a função fibonacci_2')"
   ]
  },
  {
   "cell_type": "markdown",
   "metadata": {},
   "source": [
    "### 1.1.3. Memoização\n",
    "\n",
    "A memoização consiste em armazenar os resultados gerados por uma função, de forma que toda vez que formos executá-la novamente, caso os dados de entrada já tenham sido processados anteriormente, será retornado o valor armazenado, caso contrário a função será executada normalmente e ao final salvará a saída gerada para aquela entrada."
   ]
  },
  {
   "cell_type": "code",
   "execution_count": 3,
   "metadata": {},
   "outputs": [
    {
     "name": "stdout",
     "output_type": "stream",
     "text": [
      "O 30 elemento da Sequência de Fibonacci é 832040\n",
      "Para calculá-lo foram necessárias 59 chamadas a função fibonacci_3\n"
     ]
    }
   ],
   "source": [
    "from typing import Dict\n",
    "\n",
    "fib_3_execution_count: int = 0\n",
    "\n",
    "# iniciamos nosso dicionário com os dois casos base da sequência de fibonacci\n",
    "memo: Dict[int, int] = {0: 0, 1: 1}\n",
    "\n",
    "def fibonacci_3(n: int) -> int:\n",
    "    global fib_3_execution_count\n",
    "    fib_3_execution_count += 1\n",
    "    if n not in memo:\n",
    "        memo[n] = fibonacci_3(n - 2) + fibonacci_3(n - 1)\n",
    "    return memo[n]\n",
    "\n",
    "n = 30\n",
    "print(f'O {n} elemento da Sequência de Fibonacci é {fibonacci_3(n)}')\n",
    "print(f'Para calculá-lo foram necessárias {fib_3_execution_count} chamadas a função fibonacci_3')"
   ]
  },
  {
   "cell_type": "markdown",
   "metadata": {},
   "source": [
    "Ao utilizar a memoização, durante o cálculo do trigésimo número da sequência saimos de `2692537` chamadas a função `fibonacci_2` para apenas `59` chamadas a função `fibonacci_3`."
   ]
  },
  {
   "cell_type": "markdown",
   "metadata": {},
   "source": [
    "### 1.1.4. Memoização Automática\n",
    "\n",
    "Para não precisar fazer a memoização manualmente, podemos usar o cache do [módulo functools do Python](https://docs.python.org/3/library/functools.html) através da anotação `@lru_cache`."
   ]
  },
  {
   "cell_type": "code",
   "execution_count": 6,
   "metadata": {},
   "outputs": [
    {
     "name": "stdout",
     "output_type": "stream",
     "text": [
      "O 30 elemento da Sequência de Fibonacci é 832040\n",
      "Para calculá-lo foram necessárias 31 chamadas a função fibonacci_4\n"
     ]
    }
   ],
   "source": [
    "from functools import lru_cache\n",
    "\n",
    "fib_4_execution_count: int = 0\n",
    "\n",
    "@lru_cache\n",
    "def fibonacci_4(n: int) -> int:\n",
    "    global fib_4_execution_count\n",
    "    fib_4_execution_count += 1\n",
    "\n",
    "    if n < 2:\n",
    "        return n\n",
    "    # chamada recursiva\n",
    "    return fibonacci_4(n - 1) + fibonacci_4(n - 2)\n",
    "\n",
    "n = 30\n",
    "print(f'O {n} elemento da Sequência de Fibonacci é {fibonacci_4(n)}')\n",
    "print(f'Para calculá-lo foram necessárias {fib_4_execution_count} chamadas a função fibonacci_4')"
   ]
  },
  {
   "cell_type": "markdown",
   "metadata": {},
   "source": [
    "Com isso, conseguimos diminuir o número de chamadas a nossa função de `59` em `fibonacci_3` para `31` em `fibonacci_4`."
   ]
  },
  {
   "cell_type": "markdown",
   "metadata": {},
   "source": [
    "### 1.1.5. Função Iterativa\n",
    "\n",
    "Um outra abordagem para calcular os elementos da Sequência de Fibonacci é criando uma função iterativa, o que significa que ao invés de ter um grande número de chamadas recursivas ocupando nossa memória teremos apenas um laço de repetição que executará `n - 1` iterações."
   ]
  },
  {
   "cell_type": "code",
   "execution_count": 9,
   "metadata": {},
   "outputs": [
    {
     "name": "stdout",
     "output_type": "stream",
     "text": [
      "O 30 elemento da Sequência de Fibonacci é 832040\n",
      "Para calculá-lo foram necessárias 29 iterações na função fibonacci_5\n"
     ]
    }
   ],
   "source": [
    "fib_5_execution_count: int = 0\n",
    "\n",
    "def fibonacci_5(n: int) -> int:\n",
    "    if n == 0:\n",
    "        return 0\n",
    "\n",
    "    global fib_5_execution_count\n",
    "    anterior: int = 0\n",
    "    proximo: int = 1\n",
    "    i: int = 1\n",
    "\n",
    "    while(i < n):\n",
    "        aux = anterior\n",
    "        anterior = proximo\n",
    "        proximo = anterior + aux\n",
    "\n",
    "        fib_5_execution_count += 1\n",
    "        i += 1\n",
    "\n",
    "    return proximo\n",
    "\n",
    "\n",
    "n = 30\n",
    "print(f'O {n} elemento da Sequência de Fibonacci é {fibonacci_5(n)}')\n",
    "print(f'Para calculá-lo foram necessárias {fib_5_execution_count} iterações na função fibonacci_5')"
   ]
  },
  {
   "cell_type": "markdown",
   "metadata": {},
   "source": [
    "Através da sintaxe simples e alguns recursos da linguagem Python, podemos reescrever essa função de uma maneira `\"Pythonica\"`:"
   ]
  },
  {
   "cell_type": "code",
   "execution_count": 10,
   "metadata": {},
   "outputs": [
    {
     "name": "stdout",
     "output_type": "stream",
     "text": [
      "O 30 elemento da Sequência de Fibonacci é 832040\n",
      "Para calculá-lo foram necessárias 29 iterações na função fibonacci_pythonico\n"
     ]
    }
   ],
   "source": [
    "fib_pythonico_execution_count: int = 0\n",
    "\n",
    "def fibonacci_pythonico(n: int) -> int:\n",
    "    if n == 0:\n",
    "        return 0\n",
    "\n",
    "    global fib_pythonico_execution_count\n",
    "    anterior: int = 0\n",
    "    proximo: int = 1\n",
    "\n",
    "    for i in range(1, n):\n",
    "        anterior, proximo = proximo, anterior + proximo\n",
    "        fib_pythonico_execution_count += 1\n",
    "\n",
    "    return proximo\n",
    "\n",
    "\n",
    "n = 30\n",
    "print(f'O {n} elemento da Sequência de Fibonacci é {fibonacci_pythonico(n)}')\n",
    "print(f'Para calculá-lo foram necessárias {fib_pythonico_execution_count} iterações na função fibonacci_pythonico')"
   ]
  },
  {
   "cell_type": "markdown",
   "metadata": {},
   "source": [
    "### 1.1.6. Usando gerador (yield)\n",
    "\n",
    "O Python possui o yield, um `generator`, que cria uma lista de dados que é consumida sob demanda, sendo utilizado para omitir a estrutura que gera os dados."
   ]
  },
  {
   "cell_type": "code",
   "execution_count": 1,
   "metadata": {},
   "outputs": [
    {
     "name": "stdout",
     "output_type": "stream",
     "text": [
      "0, 1, 1, 2, 3, 5, 8, 13, 21, 34, 55, 89, 144, 233, 377, 610, 987, 1597, 2584, 4181, 6765, 10946, 17711, 28657, 46368, 75025, 121393, 196418, 317811, 514229, 832040, \n"
     ]
    }
   ],
   "source": [
    "from typing import Generator\n",
    "\n",
    "fib_6_execution_count: int = 0\n",
    "\n",
    "def fibonacci_6(n: int) -> Generator[int, None, None]:\n",
    "    yield 0\n",
    "    if n > 0:\n",
    "        yield 1\n",
    "\n",
    "    global fib_6_execution_count\n",
    "    anterior: int = 0\n",
    "    proximo: int = 1\n",
    "    i: int = 1\n",
    "\n",
    "    while(i < n):\n",
    "        aux = anterior\n",
    "        anterior = proximo\n",
    "        proximo = anterior + aux\n",
    "        yield proximo\n",
    "\n",
    "        fib_6_execution_count += 1\n",
    "        i += 1\n",
    "\n",
    "\n",
    "n = 30\n",
    "for i in fibonacci_6(n):\n",
    "    print(i, end=', ')\n",
    "print('')"
   ]
  }
 ],
 "metadata": {
  "interpreter": {
   "hash": "429c5a3a03320492b910843bec0cc214200f855d46590560a32c10c2c1163646"
  },
  "kernelspec": {
   "display_name": "Python 3.9.10 64-bit",
   "language": "python",
   "name": "python3"
  },
  "language_info": {
   "codemirror_mode": {
    "name": "ipython",
    "version": 3
   },
   "file_extension": ".py",
   "mimetype": "text/x-python",
   "name": "python",
   "nbconvert_exporter": "python",
   "pygments_lexer": "ipython3",
   "version": "3.9.10"
  },
  "orig_nbformat": 4
 },
 "nbformat": 4,
 "nbformat_minor": 2
}
