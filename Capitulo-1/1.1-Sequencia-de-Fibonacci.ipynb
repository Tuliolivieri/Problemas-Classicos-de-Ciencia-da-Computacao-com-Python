{
 "cells": [
  {
   "cell_type": "markdown",
   "metadata": {},
   "source": [
    "## 1.1. Sequência de Fibonacci\n",
    "\n",
    "A Sequência de Fibonacci é uma sequência numérica de tamanho **N** onde qualquer número é dado pela soma dos dois elementos anteriores, com exeção do primeiro e do segundo número.\n"
   ]
  },
  {
   "cell_type": "markdown",
   "metadata": {},
   "source": [
    "### 1.1.1. Primeira tentativa com recursão"
   ]
  },
  {
   "cell_type": "code",
   "execution_count": null,
   "metadata": {},
   "outputs": [
    {
     "ename": "",
     "evalue": "",
     "output_type": "error",
     "traceback": [
      "\u001b[1;31mCanceled future for execute_request message before replies were done"
     ]
    },
    {
     "ename": "",
     "evalue": "",
     "output_type": "error",
     "traceback": [
      "\u001b[1;31mThe Kernel crashed while executing code in the the current cell or a previous cell. Please review the code in the cell(s) to identify a possible cause of the failure. Click <a href='https://aka.ms/vscodeJupyterKernelCrash'>here</a> for more info. View Jupyter <a href='command:jupyter.viewOutput'>log</a> for further details."
     ]
    }
   ],
   "source": [
    "def fibonacci_1(n: int) -> int:\n",
    "    return fibonacci_1(n - 1) + fibonacci_1(n - 2)\n",
    "\n",
    "fibonacci_1(5)"
   ]
  },
  {
   "cell_type": "markdown",
   "metadata": {},
   "source": [
    "O programa quebra pois não há uma condição de parada, então acabamos estourando a pilha de recursão do Python.\n",
    "\n",
    "```python\n",
    "Traceback (most recent call last):\n",
    "  File \"<stdin>\", line 1, in <module>\n",
    "  File \"<stdin>\", line 2, in fib\n",
    "  File \"<stdin>\", line 2, in fib\n",
    "  File \"<stdin>\", line 2, in fib\n",
    "  [Previous line repeated 996 more times]\n",
    "RecursionError: maximum recursion depth exceeded\n",
    "```\n",
    "\n",
    "Para solucionar isso, devemos trabalhar com uma condição de parada para a recursão."
   ]
  },
  {
   "cell_type": "markdown",
   "metadata": {},
   "source": [
    "### 1.1.2. Utilizando casos de base\n",
    "\n",
    "O caso base de uma função recursiva é uma condição onde a função não chamará a si mesma novamente, quebrando assim a recursão e impedindo que aconteça um _loop infinito_."
   ]
  },
  {
   "cell_type": "code",
   "execution_count": 16,
   "metadata": {},
   "outputs": [
    {
     "name": "stdout",
     "output_type": "stream",
     "text": [
      "O 30 elemento da Sequência de Fibonacci é 832040\n",
      "Para calculá-lo foram necessárias 2692537 chamadas a função fibonacci_2\n"
     ]
    }
   ],
   "source": [
    "fib_2_execution_count: int = 0\n",
    "\n",
    "def fibonacci_2(n: int) -> int:\n",
    "    global fib_2_execution_count\n",
    "    fib_2_execution_count += 1\n",
    "    # caso base que para a recursão\n",
    "    if n < 2:\n",
    "        return n\n",
    "    # chamada recursiva\n",
    "    return fibonacci_2(n - 2) + fibonacci_2(n - 1)\n",
    "\n",
    "n = 30\n",
    "print(f'O {n} elemento da Sequência de Fibonacci é {fibonacci_2(n)}')\n",
    "print(f'Para calculá-lo foram necessárias {fib_2_execution_count} chamadas a função fibonacci_2')"
   ]
  },
  {
   "cell_type": "markdown",
   "metadata": {},
   "source": [
    "### 1.1.3. Memoização\n",
    "\n",
    "A memoização consiste em armazenar os resultados gerados por uma função, de forma que toda vez que formos executá-la novamente, caso os dados de entrada já tenham sido processados anteriormente, será retornado o valor armazenado, caso contrário a função será executada normalmente e ao final salvará a saída gerada para aquela entrada."
   ]
  },
  {
   "cell_type": "code",
   "execution_count": 17,
   "metadata": {},
   "outputs": [
    {
     "name": "stdout",
     "output_type": "stream",
     "text": [
      "O 30 elemento da Sequência de Fibonacci é 832040\n",
      "Para calculá-lo foram necessárias 59 chamadas a função fibonacci_3\n"
     ]
    }
   ],
   "source": [
    "from typing import Dict\n",
    "\n",
    "fib_3_execution_count: int = 0\n",
    "\n",
    "# iniciamos nosso dicionário com os dois casos base da sequência de fibonacci\n",
    "memo: Dict[int, int] = {0: 0, 1: 1}\n",
    "\n",
    "def fibonacci_3(n: int) -> int:\n",
    "    global fib_3_execution_count\n",
    "    fib_3_execution_count += 1\n",
    "    if n not in memo:\n",
    "        memo[n] = fibonacci_3(n - 2) + fibonacci_3(n - 1)\n",
    "    return memo[n]\n",
    "\n",
    "n = 30\n",
    "print(f'O {n} elemento da Sequência de Fibonacci é {fibonacci_3(n)}')\n",
    "print(f'Para calculá-lo foram necessárias {fib_3_execution_count} chamadas a função fibonacci_3')"
   ]
  },
  {
   "cell_type": "markdown",
   "metadata": {},
   "source": [
    "Ao utilizar a memoização, durante o cálculo do trigésimo número da sequência saimos de `2692537` chamadas a função `fibonacci_2` para apenas `59` chamadas a função `fibonacci_3`."
   ]
  }
 ],
 "metadata": {
  "interpreter": {
   "hash": "b0fa6594d8f4cbf19f97940f81e996739fb7646882a419484c72d19e05852a7e"
  },
  "kernelspec": {
   "display_name": "Python 3.9.12 64-bit",
   "language": "python",
   "name": "python3"
  },
  "language_info": {
   "codemirror_mode": {
    "name": "ipython",
    "version": 3
   },
   "file_extension": ".py",
   "mimetype": "text/x-python",
   "name": "python",
   "nbconvert_exporter": "python",
   "pygments_lexer": "ipython3",
   "version": "3.9.12"
  },
  "orig_nbformat": 4
 },
 "nbformat": 4,
 "nbformat_minor": 2
}
