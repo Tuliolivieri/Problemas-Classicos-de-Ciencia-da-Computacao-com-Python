{
 "cells": [
  {
   "cell_type": "markdown",
   "metadata": {},
   "source": [
    "## 1.1. Sequência de Fibonacci\n",
    "\n",
    "A Sequência de Fibonacci é uma sequência numérica de tamanho **N** onde qualquer número é dado pela soma dos dois elementos anteriores, com exeção do primeiro e do segundo número.\n"
   ]
  },
  {
   "cell_type": "markdown",
   "metadata": {},
   "source": [
    "### 1.1.1. Primeira tentativa com recursão"
   ]
  },
  {
   "cell_type": "code",
   "execution_count": null,
   "metadata": {},
   "outputs": [
    {
     "ename": "",
     "evalue": "",
     "output_type": "error",
     "traceback": [
      "\u001b[1;31mCanceled future for execute_request message before replies were done"
     ]
    },
    {
     "ename": "",
     "evalue": "",
     "output_type": "error",
     "traceback": [
      "\u001b[1;31mThe Kernel crashed while executing code in the the current cell or a previous cell. Please review the code in the cell(s) to identify a possible cause of the failure. Click <a href='https://aka.ms/vscodeJupyterKernelCrash'>here</a> for more info. View Jupyter <a href='command:jupyter.viewOutput'>log</a> for further details."
     ]
    }
   ],
   "source": [
    "def fibonacci_1(n: int) -> int:\n",
    "    return fibonacci_1(n - 1) + fibonacci_1(n - 2)\n",
    "\n",
    "fibonacci_1(5)"
   ]
  },
  {
   "cell_type": "markdown",
   "metadata": {},
   "source": [
    "O programa quebra pois não há uma condição de parada, então acabamos estourando a pilha de recursão do Python.\n",
    "\n",
    "```python\n",
    "Traceback (most recent call last):\n",
    "  File \"<stdin>\", line 1, in <module>\n",
    "  File \"<stdin>\", line 2, in fib\n",
    "  File \"<stdin>\", line 2, in fib\n",
    "  File \"<stdin>\", line 2, in fib\n",
    "  [Previous line repeated 996 more times]\n",
    "RecursionError: maximum recursion depth exceeded\n",
    "```\n",
    "\n",
    "Para solucionar isso, devemos trabalhar com uma condição de parada para a recursão."
   ]
  },
  {
   "cell_type": "markdown",
   "metadata": {},
   "source": [
    "### 1.1.2. Utilizando casos de base\n",
    "\n",
    "O caso base de uma função recursiva é uma condição onde a função não chamará a si mesma novamente, quebrando assim a recursão e impedindo que aconteça um _loop infinito_."
   ]
  },
  {
   "cell_type": "code",
   "execution_count": 10,
   "metadata": {},
   "outputs": [
    {
     "data": {
      "text/plain": [
       "55"
      ]
     },
     "execution_count": 10,
     "metadata": {},
     "output_type": "execute_result"
    }
   ],
   "source": [
    "def fibonacci_2(n: int) -> int:\n",
    "    # caso base que para a recursão\n",
    "    if n < 2:\n",
    "        return n\n",
    "    # chamada recursiva\n",
    "    return fibonacci_2(n - 2) + fibonacci_2(n - 1)\n",
    "\n",
    "fibonacci_2(10)"
   ]
  }
 ],
 "metadata": {
  "interpreter": {
   "hash": "429c5a3a03320492b910843bec0cc214200f855d46590560a32c10c2c1163646"
  },
  "kernelspec": {
   "display_name": "Python 3.9.10 64-bit",
   "language": "python",
   "name": "python3"
  },
  "language_info": {
   "codemirror_mode": {
    "name": "ipython",
    "version": 3
   },
   "file_extension": ".py",
   "mimetype": "text/x-python",
   "name": "python",
   "nbconvert_exporter": "python",
   "pygments_lexer": "ipython3",
   "version": "3.9.10"
  },
  "orig_nbformat": 4
 },
 "nbformat": 4,
 "nbformat_minor": 2
}
