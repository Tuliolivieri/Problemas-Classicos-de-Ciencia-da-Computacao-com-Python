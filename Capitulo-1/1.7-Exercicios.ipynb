{
 "cells": [
  {
   "cell_type": "markdown",
   "metadata": {},
   "source": [
    "## 1.7. Exercícios"
   ]
  },
  {
   "cell_type": "markdown",
   "metadata": {},
   "source": [
    "##### 1. Escreva outra função que forneça o elemento `n` da sequência de Fibonacci usando uma técnica cujo design seja seu. Escreva testes de unidade e compare o desempenho com as versões apresentadas nesse capitulo."
   ]
  },
  {
   "cell_type": "code",
   "execution_count": 94,
   "metadata": {},
   "outputs": [
    {
     "data": {
      "text/plain": [
       "832040"
      ]
     },
     "execution_count": 94,
     "metadata": {},
     "output_type": "execute_result"
    }
   ],
   "source": [
    "def my_fibonacci(n: int) -> int:\n",
    "    if n == 0:\n",
    "        return 0\n",
    "\n",
    "    anterior: int = 0\n",
    "    atual: int = 1\n",
    "    i: int = 1\n",
    "\n",
    "    while i < n:\n",
    "        anterior, atual = atual, atual + anterior\n",
    "        i +=1\n",
    "\n",
    "    return atual\n",
    "\n",
    "my_fibonacci(30)"
   ]
  },
  {
   "cell_type": "code",
   "execution_count": 95,
   "metadata": {},
   "outputs": [
    {
     "data": {
      "text/plain": [
       "832040"
      ]
     },
     "execution_count": 95,
     "metadata": {},
     "output_type": "execute_result"
    }
   ],
   "source": [
    "def fibonacci_pythonico(n: int) -> int:\n",
    "    if n == 0:\n",
    "        return 0\n",
    "\n",
    "    anterior: int = 0\n",
    "    proximo: int = 1\n",
    "\n",
    "    for i in range(1, n):\n",
    "        anterior, proximo = proximo, anterior + proximo\n",
    "\n",
    "    return proximo\n",
    "\n",
    "\n",
    "n = 30\n",
    "fibonacci_pythonico(n)"
   ]
  },
  {
   "cell_type": "code",
   "execution_count": 96,
   "metadata": {},
   "outputs": [
    {
     "name": "stdout",
     "output_type": "stream",
     "text": [
      "Tempo de execução de my_fibonacci: 0.07499559997813776\n",
      "Tempo de execução de fibonacci_pythonico: 0.05341320001753047\n"
     ]
    }
   ],
   "source": [
    "from timeit import default_timer\n",
    "\n",
    "n: int = 1000\n",
    "\n",
    "inicio = default_timer()\n",
    "\n",
    "for i in range(1000):\n",
    "    my_fibonacci(n)\n",
    "\n",
    "fim = default_timer()\n",
    "\n",
    "print(f'Tempo de execução de my_fibonacci: {fim - inicio}')\n",
    "\n",
    "inicio = default_timer()\n",
    "\n",
    "for i in range(1000):\n",
    "    fibonacci_pythonico(n)\n",
    "\n",
    "fim = default_timer()\n",
    "\n",
    "print(f'Tempo de execução de fibonacci_pythonico: {fim - inicio}')"
   ]
  },
  {
   "cell_type": "code",
   "execution_count": 98,
   "metadata": {},
   "outputs": [],
   "source": [
    "numeros_da_sequencia = [1, 1, 2, 3, 5, 8, 13, 21, 34, 55, 89, 144, 233, 377, 610, 987, 1597, 2584, 4181, 6765]\n",
    "\n",
    "assert my_fibonacci(0) == 0\n",
    "\n",
    "for i in range(1, len(numeros_da_sequencia) + 1):\n",
    "    assert my_fibonacci(i) == numeros_da_sequencia[i - 1]"
   ]
  },
  {
   "cell_type": "markdown",
   "metadata": {},
   "source": [
    "##### 2. Escreva um wrapper ergonômico com o int que seja usado de modo genérico como uma sequência de bits. Tone-o iterável e implemente o método __getitem__(). Reimplemente a classe CompressedGene usando esse wrapper."
   ]
  },
  {
   "cell_type": "markdown",
   "metadata": {},
   "source": [
    "##### 3. Escreva uma solução para as Torres de Hanói que funcione para qualquer quantidade de torres."
   ]
  },
  {
   "cell_type": "markdown",
   "metadata": {},
   "source": [
    "##### 4. Utiliza um one-time pad para criptografar e descriptografar imagens."
   ]
  },
  {
   "cell_type": "code",
   "execution_count": null,
   "metadata": {},
   "outputs": [],
   "source": []
  }
 ],
 "metadata": {
  "kernelspec": {
   "display_name": "Python 3.10.4 64-bit",
   "language": "python",
   "name": "python3"
  },
  "language_info": {
   "codemirror_mode": {
    "name": "ipython",
    "version": 3
   },
   "file_extension": ".py",
   "mimetype": "text/x-python",
   "name": "python",
   "nbconvert_exporter": "python",
   "pygments_lexer": "ipython3",
   "version": "3.10.4"
  },
  "orig_nbformat": 4,
  "vscode": {
   "interpreter": {
    "hash": "369f2c481f4da34e4445cda3fffd2e751bd1c4d706f27375911949ba6bb62e1c"
   }
  }
 },
 "nbformat": 4,
 "nbformat_minor": 2
}
