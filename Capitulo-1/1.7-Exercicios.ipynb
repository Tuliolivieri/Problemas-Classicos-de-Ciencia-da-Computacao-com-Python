{
 "cells": [
  {
   "cell_type": "markdown",
   "metadata": {},
   "source": [
    "## 1.7. Exercícios"
   ]
  },
  {
   "cell_type": "markdown",
   "metadata": {},
   "source": [
    "##### 1. Escreva outra função que forneça o elemento `n` da sequência de Fibonacci usando uma técnica cujo design seja seu. Escreva testes de unidade e compare o desempenho com as versões apresentadas nesse capitulo."
   ]
  },
  {
   "cell_type": "markdown",
   "metadata": {},
   "source": [
    "##### 2. Escreva um wrapper ergonômico com o int que seja usado de modo genérico como uma sequência de bits. Tone-o iterável e implemente o método __getitem__(). Reimplemente a classe CompressedGene usando esse wrapper."
   ]
  },
  {
   "cell_type": "markdown",
   "metadata": {},
   "source": [
    "##### 3. Escreva uma solução para as Torres de Hanói que funcione para qualquer quantidade de torres."
   ]
  },
  {
   "cell_type": "markdown",
   "metadata": {},
   "source": [
    "##### 4. Utiliza um one-time pad para criptografar e descriptografar imagens."
   ]
  }
 ],
 "metadata": {
  "language_info": {
   "name": "python"
  },
  "orig_nbformat": 4
 },
 "nbformat": 4,
 "nbformat_minor": 2
}
