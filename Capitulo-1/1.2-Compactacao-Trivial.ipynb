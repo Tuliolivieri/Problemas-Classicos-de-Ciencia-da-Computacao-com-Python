{
 "cells": [
  {
   "cell_type": "markdown",
   "metadata": {},
   "source": [
    "## 1.2. Compactação Trivial\n",
    "\n",
    "Ao trabalhar com dados, podemos armazená-los de duas maneiras: em sua forma natural ou na forma de um código que o represente. Se o número de possíveis combinações diferentes de um valor for menor que o número de bits necessários para armazená-lo, pode ser mais interessante salvar o código da cobinação.\n",
    "\n",
    "No exemplo do livro, temos os nucleotídeos que formam um gene no DNA, que podem ser de um entre quatro valores (A, C, G e T). Se o gene for armazenado como string, cada nucleotídeo será um caractere de 8 bits, mas se optarmos por armazenar o código binário de cada um, apenas 2 bits serão necessários para cada um: 00(A), 01(C), 10(G) e 11(T).\n",
    "\n",
    "Considerando uma sequência ACGT, temos a seguinte situação:\n",
    "\n",
    "**\"ACGT\"** -> 4 x 8 = `32 bits`\n",
    "\n",
    "**00011011** -> 8 x 1 = `8 bits` \n",
    "\n",
    "Então, podemos exibir nossos dados na forma de string, porém armazená-los na forma de um código binário, precisando apenas fazer a compactação e descompactção.\n"
   ]
  },
  {
   "cell_type": "code",
   "execution_count": 31,
   "metadata": {},
   "outputs": [],
   "source": [
    "class CompressedGene:\n",
    "    def __init__(self, gene: str) -> None:\n",
    "        self.__compressed_gene = 0\n",
    "        self.__compress(gene)\n",
    "    def get_compressed_gene(self):\n",
    "        return self.__compressed_gene\n",
    "\n",
    "    def __compress(self, gene: str) -> None:\n",
    "        self.__compressed_gene: int = 1\n",
    "\n",
    "        for nucleotide in gene.upper():\n",
    "            self.__compressed_gene <<= 2\n",
    "\n",
    "            if nucleotide == 'A':\n",
    "                self.__compressed_gene |= 0b00\n",
    "            elif nucleotide == 'C':\n",
    "                self.__compressed_gene |= 0b01\n",
    "            elif nucleotide == 'G':\n",
    "                self.__compressed_gene |= 0b10\n",
    "            elif nucleotide == 'T':\n",
    "                self.__compressed_gene |= 0b11\n",
    "            else:\n",
    "                raise ValueError(f'Invalid Nucleotide {nucleotide}')\n",
    "\n",
    "    def __decompress(self):\n",
    "        gene: str = ''\n",
    "\n",
    "        for i in range(0, self.__compressed_gene.bit_length() - 1, 2):\n",
    "            bits: int = self.__compressed_gene >> i & 0b11\n",
    "\n",
    "            if bits == 0b00:\n",
    "                gene += 'A'\n",
    "            elif bits == 0b01:\n",
    "                gene += 'C'\n",
    "            elif bits == 0b10:\n",
    "                gene += 'G'\n",
    "            elif bits == 0b11:\n",
    "                gene += 'T'\n",
    "            else:\n",
    "                raise ValueError(f'Invalid bits {bits}')\n",
    "\n",
    "        return gene[::-1]\n",
    "\n",
    "    def __str__(self) -> str:\n",
    "        return self.__decompress()"
   ]
  },
  {
   "cell_type": "code",
   "execution_count": 39,
   "metadata": {},
   "outputs": [
    {
     "name": "stdout",
     "output_type": "stream",
     "text": [
      "The gene ACGTTAGTACGTTAGTACGTTAGTACGTTAGTACGTTAGT have 89 bits\n",
      "The compressed gene 1340176406424091089378251 have 36 bits\n",
      "The test gene ACGTTAGTACGTTAGTACGTTAGTACGTTAGTACGTTAGT and decompressed ACGTTAGTACGTTAGTACGTTAGTACGTTAGTACGTTAGT are the same: True\n"
     ]
    }
   ],
   "source": [
    "from sys import getsizeof\n",
    "\n",
    "test_gene: str = \"ACGTTAGT\" * 5\n",
    "print(f'The gene {test_gene} have {getsizeof(test_gene)} bits')\n",
    "\n",
    "compressed_gene: CompressedGene = CompressedGene(test_gene)\n",
    "print(f'The compressed gene {compressed_gene.get_compressed_gene()} have {getsizeof(compressed_gene.get_compressed_gene())} bits')\n",
    "\n",
    "print(f'The test gene {test_gene} and decompressed {compressed_gene} are the same: {test_gene == str(compressed_gene)}')"
   ]
  }
 ],
 "metadata": {
  "interpreter": {
   "hash": "369f2c481f4da34e4445cda3fffd2e751bd1c4d706f27375911949ba6bb62e1c"
  },
  "kernelspec": {
   "display_name": "Python 3.10.4 64-bit",
   "language": "python",
   "name": "python3"
  },
  "language_info": {
   "codemirror_mode": {
    "name": "ipython",
    "version": 3
   },
   "file_extension": ".py",
   "mimetype": "text/x-python",
   "name": "python",
   "nbconvert_exporter": "python",
   "pygments_lexer": "ipython3",
   "version": "3.10.4"
  },
  "orig_nbformat": 4
 },
 "nbformat": 4,
 "nbformat_minor": 2
}
